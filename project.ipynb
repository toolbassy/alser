{
  "nbformat": 4,
  "nbformat_minor": 0,
  "metadata": {
    "colab": {
      "name": "project.ipynb",
      "provenance": [],
      "include_colab_link": true
    },
    "kernelspec": {
      "name": "python3",
      "display_name": "Python 3"
    },
    "language_info": {
      "name": "python"
    }
  },
  "cells": [
    {
      "cell_type": "markdown",
      "metadata": {
        "id": "view-in-github",
        "colab_type": "text"
      },
      "source": [
        "<a href=\"https://colab.research.google.com/github/toolbassy/alser/blob/main/project.ipynb\" target=\"_parent\"><img src=\"https://colab.research.google.com/assets/colab-badge.svg\" alt=\"Open In Colab\"/></a>"
      ]
    },
    {
      "cell_type": "markdown",
      "metadata": {
        "id": "hMYDgF-aJsLg"
      },
      "source": [
        "## Dataset"
      ]
    },
    {
      "cell_type": "code",
      "metadata": {
        "id": "EIcRBKlWJn35"
      },
      "source": [
        "import numpy as np \n",
        "import pandas as pd\n",
        "\n",
        "import seaborn as sns\n",
        "import matplotlib.pyplot as plt\n",
        "import plotly.graph_objs as go\n",
        "from plotly.offline import init_notebook_mode, iplot\n",
        "import matplotlib.gridspec as gridspec\n",
        "\n",
        "from sklearn.model_selection import train_test_split\n",
        "from sklearn.preprocessing import StandardScaler"
      ],
      "execution_count": 95,
      "outputs": []
    },
    {
      "cell_type": "code",
      "metadata": {
        "id": "8xetW6D3Kegh",
        "colab": {
          "base_uri": "https://localhost:8080/"
        },
        "outputId": "b9e5d639-447a-4f89-84e8-ad395873593d"
      },
      "source": [
        "from google.colab import drive\n",
        "drive.mount('/content/drive')"
      ],
      "execution_count": 96,
      "outputs": [
        {
          "output_type": "stream",
          "name": "stdout",
          "text": [
            "Drive already mounted at /content/drive; to attempt to forcibly remount, call drive.mount(\"/content/drive\", force_remount=True).\n"
          ]
        }
      ]
    },
    {
      "cell_type": "code",
      "metadata": {
        "id": "nD67REMnKvAw"
      },
      "source": [
        "data = pd.read_csv('/content/drive/MyDrive/alser.csv', sep = ';')\n",
        "data = data.drop(['number'], axis=1)"
      ],
      "execution_count": 97,
      "outputs": []
    },
    {
      "cell_type": "code",
      "metadata": {
        "id": "DdB3RK9aLHof",
        "colab": {
          "base_uri": "https://localhost:8080/",
          "height": 418
        },
        "outputId": "c144ebb2-55c9-4411-b0d6-2c1370fe42e4"
      },
      "source": [
        "data.head(247)"
      ],
      "execution_count": 98,
      "outputs": [
        {
          "output_type": "execute_result",
          "data": {
            "text/html": [
              "<div>\n",
              "<style scoped>\n",
              "    .dataframe tbody tr th:only-of-type {\n",
              "        vertical-align: middle;\n",
              "    }\n",
              "\n",
              "    .dataframe tbody tr th {\n",
              "        vertical-align: top;\n",
              "    }\n",
              "\n",
              "    .dataframe thead th {\n",
              "        text-align: right;\n",
              "    }\n",
              "</style>\n",
              "<table border=\"1\" class=\"dataframe\">\n",
              "  <thead>\n",
              "    <tr style=\"text-align: right;\">\n",
              "      <th></th>\n",
              "      <th>name</th>\n",
              "      <th>brand</th>\n",
              "      <th>price</th>\n",
              "      <th>numberofsim</th>\n",
              "      <th>diagonal</th>\n",
              "      <th>width</th>\n",
              "      <th>length</th>\n",
              "      <th>screentechnology</th>\n",
              "      <th>os</th>\n",
              "      <th>numberofcore</th>\n",
              "      <th>memoryGB</th>\n",
              "      <th>sensortype</th>\n",
              "    </tr>\n",
              "  </thead>\n",
              "  <tbody>\n",
              "    <tr>\n",
              "      <th>0</th>\n",
              "      <td>Xiaomi 11T 8/128GB, Meteorite Gray</td>\n",
              "      <td>Xiaomi</td>\n",
              "      <td>259990</td>\n",
              "      <td>2</td>\n",
              "      <td>6.67</td>\n",
              "      <td>2400</td>\n",
              "      <td>1080</td>\n",
              "      <td>AMOLED</td>\n",
              "      <td>Android 11</td>\n",
              "      <td>8</td>\n",
              "      <td>128</td>\n",
              "      <td>акселерометр</td>\n",
              "    </tr>\n",
              "    <tr>\n",
              "      <th>1</th>\n",
              "      <td>Vivo Y53S (128GB), Deep Sea Blue</td>\n",
              "      <td>Vivo</td>\n",
              "      <td>134990</td>\n",
              "      <td>2</td>\n",
              "      <td>6.58</td>\n",
              "      <td>2408</td>\n",
              "      <td>1080</td>\n",
              "      <td>IPS</td>\n",
              "      <td>Funtouch ОS 11.1</td>\n",
              "      <td>8</td>\n",
              "      <td>128</td>\n",
              "      <td>gps</td>\n",
              "    </tr>\n",
              "    <tr>\n",
              "      <th>2</th>\n",
              "      <td>Vivo Y53S (128GB), Fantastic Rainbow</td>\n",
              "      <td>Vivo</td>\n",
              "      <td>134990</td>\n",
              "      <td>2</td>\n",
              "      <td>6.58</td>\n",
              "      <td>2408</td>\n",
              "      <td>1080</td>\n",
              "      <td>IPS</td>\n",
              "      <td>Funtouch ОS 11.1</td>\n",
              "      <td>8</td>\n",
              "      <td>128</td>\n",
              "      <td>gps</td>\n",
              "    </tr>\n",
              "    <tr>\n",
              "      <th>3</th>\n",
              "      <td>Samsung Galaxy Z Flip 3 (new) 128GB, beige</td>\n",
              "      <td>Samsung</td>\n",
              "      <td>549890</td>\n",
              "      <td>2</td>\n",
              "      <td>6.70</td>\n",
              "      <td>2640</td>\n",
              "      <td>1080</td>\n",
              "      <td>Dynamic AMOLED 2X</td>\n",
              "      <td>Android 11</td>\n",
              "      <td>8</td>\n",
              "      <td>128</td>\n",
              "      <td>gps</td>\n",
              "    </tr>\n",
              "    <tr>\n",
              "      <th>4</th>\n",
              "      <td>Samsung Galaxy Z Flip 3 (new)128GB, green</td>\n",
              "      <td>Samsung</td>\n",
              "      <td>549890</td>\n",
              "      <td>2</td>\n",
              "      <td>6.70</td>\n",
              "      <td>2640</td>\n",
              "      <td>1080</td>\n",
              "      <td>Dynamic AMOLED 2X</td>\n",
              "      <td>Android 11</td>\n",
              "      <td>8</td>\n",
              "      <td>128</td>\n",
              "      <td>gps</td>\n",
              "    </tr>\n",
              "    <tr>\n",
              "      <th>...</th>\n",
              "      <td>...</td>\n",
              "      <td>...</td>\n",
              "      <td>...</td>\n",
              "      <td>...</td>\n",
              "      <td>...</td>\n",
              "      <td>...</td>\n",
              "      <td>...</td>\n",
              "      <td>...</td>\n",
              "      <td>...</td>\n",
              "      <td>...</td>\n",
              "      <td>...</td>\n",
              "      <td>...</td>\n",
              "    </tr>\n",
              "    <tr>\n",
              "      <th>242</th>\n",
              "      <td>Samsung Galaxy A51 128GB, Black (SM-A515FZKWSKZ)</td>\n",
              "      <td>Samsung</td>\n",
              "      <td>149890</td>\n",
              "      <td>2</td>\n",
              "      <td>6.50</td>\n",
              "      <td>2400</td>\n",
              "      <td>1080</td>\n",
              "      <td>Super AMOLED</td>\n",
              "      <td>Android</td>\n",
              "      <td>8</td>\n",
              "      <td>128</td>\n",
              "      <td>gps</td>\n",
              "    </tr>\n",
              "    <tr>\n",
              "      <th>243</th>\n",
              "      <td>Samsung Galaxy A51 128GB, Blue (SM-A515FZBWSKZ)</td>\n",
              "      <td>Samsung</td>\n",
              "      <td>149890</td>\n",
              "      <td>2</td>\n",
              "      <td>6.50</td>\n",
              "      <td>2400</td>\n",
              "      <td>1080</td>\n",
              "      <td>Super AMOLED</td>\n",
              "      <td>Android</td>\n",
              "      <td>8</td>\n",
              "      <td>128</td>\n",
              "      <td>gps</td>\n",
              "    </tr>\n",
              "    <tr>\n",
              "      <th>244</th>\n",
              "      <td>Samsung Galaxy A51 64GB, White (SM-A515FZWUSKZ)</td>\n",
              "      <td>Samsung</td>\n",
              "      <td>129890</td>\n",
              "      <td>2</td>\n",
              "      <td>6.50</td>\n",
              "      <td>2400</td>\n",
              "      <td>1080</td>\n",
              "      <td>Super AMOLED</td>\n",
              "      <td>Android</td>\n",
              "      <td>8</td>\n",
              "      <td>64</td>\n",
              "      <td>gps</td>\n",
              "    </tr>\n",
              "    <tr>\n",
              "      <th>245</th>\n",
              "      <td>Samsung Galaxy A51 64GB, Black (SM-A515FZKUSKZ)</td>\n",
              "      <td>Samsung</td>\n",
              "      <td>0</td>\n",
              "      <td>2</td>\n",
              "      <td>6.50</td>\n",
              "      <td>2400</td>\n",
              "      <td>1080</td>\n",
              "      <td>Super AMOLED</td>\n",
              "      <td>Android</td>\n",
              "      <td>8</td>\n",
              "      <td>64</td>\n",
              "      <td>gps</td>\n",
              "    </tr>\n",
              "    <tr>\n",
              "      <th>246</th>\n",
              "      <td>Samsung Galaxy A51 64GB, Blue (SM-A515FZBUSKZ)</td>\n",
              "      <td>Samsung</td>\n",
              "      <td>0</td>\n",
              "      <td>2</td>\n",
              "      <td>6.50</td>\n",
              "      <td>2400</td>\n",
              "      <td>1080</td>\n",
              "      <td>Super AMOLED</td>\n",
              "      <td>Android</td>\n",
              "      <td>8</td>\n",
              "      <td>64</td>\n",
              "      <td>gps</td>\n",
              "    </tr>\n",
              "  </tbody>\n",
              "</table>\n",
              "<p>247 rows × 12 columns</p>\n",
              "</div>"
            ],
            "text/plain": [
              "                                                 name  ...    sensortype\n",
              "0                  Xiaomi 11T 8/128GB, Meteorite Gray  ...  акселерометр\n",
              "1                    Vivo Y53S (128GB), Deep Sea Blue  ...           gps\n",
              "2                Vivo Y53S (128GB), Fantastic Rainbow  ...           gps\n",
              "3          Samsung Galaxy Z Flip 3 (new) 128GB, beige  ...           gps\n",
              "4           Samsung Galaxy Z Flip 3 (new)128GB, green  ...           gps\n",
              "..                                                ...  ...           ...\n",
              "242  Samsung Galaxy A51 128GB, Black (SM-A515FZKWSKZ)  ...           gps\n",
              "243   Samsung Galaxy A51 128GB, Blue (SM-A515FZBWSKZ)  ...           gps\n",
              "244   Samsung Galaxy A51 64GB, White (SM-A515FZWUSKZ)  ...           gps\n",
              "245   Samsung Galaxy A51 64GB, Black (SM-A515FZKUSKZ)  ...           gps\n",
              "246    Samsung Galaxy A51 64GB, Blue (SM-A515FZBUSKZ)  ...           gps\n",
              "\n",
              "[247 rows x 12 columns]"
            ]
          },
          "metadata": {},
          "execution_count": 98
        }
      ]
    },
    {
      "cell_type": "code",
      "metadata": {
        "id": "9iF0frf9LKLQ",
        "colab": {
          "base_uri": "https://localhost:8080/"
        },
        "outputId": "3dc40ee6-ff46-4492-e88f-411452ff2764"
      },
      "source": [
        "data.info()"
      ],
      "execution_count": 99,
      "outputs": [
        {
          "output_type": "stream",
          "name": "stdout",
          "text": [
            "<class 'pandas.core.frame.DataFrame'>\n",
            "RangeIndex: 247 entries, 0 to 246\n",
            "Data columns (total 12 columns):\n",
            " #   Column            Non-Null Count  Dtype  \n",
            "---  ------            --------------  -----  \n",
            " 0   name              247 non-null    object \n",
            " 1   brand             247 non-null    object \n",
            " 2   price             247 non-null    int64  \n",
            " 3   numberofsim       247 non-null    int64  \n",
            " 4   diagonal          247 non-null    float64\n",
            " 5   width             247 non-null    int64  \n",
            " 6   length            247 non-null    int64  \n",
            " 7   screentechnology  247 non-null    object \n",
            " 8   os                247 non-null    object \n",
            " 9   numberofcore      247 non-null    int64  \n",
            " 10  memoryGB          247 non-null    int64  \n",
            " 11  sensortype        247 non-null    object \n",
            "dtypes: float64(1), int64(6), object(5)\n",
            "memory usage: 23.3+ KB\n"
          ]
        }
      ]
    },
    {
      "cell_type": "code",
      "metadata": {
        "id": "i-tGTfwp9A1F",
        "colab": {
          "base_uri": "https://localhost:8080/"
        },
        "outputId": "3c932498-8e19-4675-aa9f-ece36ca06b0a"
      },
      "source": [
        "data.sensortype.unique()"
      ],
      "execution_count": 100,
      "outputs": [
        {
          "output_type": "execute_result",
          "data": {
            "text/plain": [
              "array(['акселерометр', 'gps', 'гироскоп', 'Face ID', ' акселерометр',\n",
              "       'освещения', 'отпечатков пальцев'], dtype=object)"
            ]
          },
          "metadata": {},
          "execution_count": 100
        }
      ]
    },
    {
      "cell_type": "code",
      "metadata": {
        "colab": {
          "base_uri": "https://localhost:8080/"
        },
        "id": "x1eScs5InkPF",
        "outputId": "f8725be7-01ee-49f7-a692-1b3f4ad14946"
      },
      "source": [
        "data.brand.unique()"
      ],
      "execution_count": 101,
      "outputs": [
        {
          "output_type": "execute_result",
          "data": {
            "text/plain": [
              "array(['Xiaomi', 'Vivo', 'Samsung', 'BQ-6645L', 'BQ', 'BQ-5016G', 'Apple',\n",
              "       'OPPO', 'Realme', 'Galaxy', 'Nokia', 'Oppo', 'X-AGE', 'BQ-5740G',\n",
              "       'BQ-5519G', 'BQ-6042L'], dtype=object)"
            ]
          },
          "metadata": {},
          "execution_count": 101
        }
      ]
    },
    {
      "cell_type": "code",
      "metadata": {
        "id": "OxWrNvKz9SGU",
        "colab": {
          "base_uri": "https://localhost:8080/"
        },
        "outputId": "1dd2d634-b76a-4bb8-8bd8-9482a8d56424"
      },
      "source": [
        "data['sensortype'] = data['sensortype'].replace(['акселерометр'],'accelerometer')\n",
        "data['sensortype'] = data['sensortype'].replace(['гироскоп'],'gyroscope')\n",
        "data['sensortype'] = data['sensortype'].replace(['освещения'],'lighting')\n",
        "data['sensortype'] = data['sensortype'].replace(['отпечатков пальцев'],'fingerprint')\n",
        "data.sensortype.unique()"
      ],
      "execution_count": 102,
      "outputs": [
        {
          "output_type": "execute_result",
          "data": {
            "text/plain": [
              "array(['accelerometer', 'gps', 'gyroscope', 'Face ID', ' акселерометр',\n",
              "       'lighting', 'fingerprint'], dtype=object)"
            ]
          },
          "metadata": {},
          "execution_count": 102
        }
      ]
    },
    {
      "cell_type": "code",
      "metadata": {
        "id": "n9yg7r-r_XRk",
        "colab": {
          "base_uri": "https://localhost:8080/"
        },
        "outputId": "67be9f35-6622-493a-e314-9d9c55f87058"
      },
      "source": [
        "data['ostype'] = data['os'].str.split().str[0]\n",
        "data['ostype'] = data['ostype'].replace(['Собственная'],'Own')\n",
        "data['brand'] = data['brand'].replace(['Galaxy'],'Samsung')\n",
        "data['brand'] = data['brand'].str.split('-').str[0]\n",
        "data['brand'] = data['brand'].replace(['X'],'X-AGE')\n",
        "\n",
        "data.brand.unique()"
      ],
      "execution_count": 103,
      "outputs": [
        {
          "output_type": "execute_result",
          "data": {
            "text/plain": [
              "array(['Xiaomi', 'Vivo', 'Samsung', 'BQ', 'Apple', 'OPPO', 'Realme',\n",
              "       'Nokia', 'Oppo', 'X-AGE'], dtype=object)"
            ]
          },
          "metadata": {},
          "execution_count": 103
        }
      ]
    },
    {
      "cell_type": "code",
      "metadata": {
        "id": "mnQMPLn-BeUN",
        "colab": {
          "base_uri": "https://localhost:8080/",
          "height": 204
        },
        "outputId": "1dd08487-b226-4ede-f8f9-9b309c6a9c01"
      },
      "source": [
        "data.head()"
      ],
      "execution_count": 104,
      "outputs": [
        {
          "output_type": "execute_result",
          "data": {
            "text/html": [
              "<div>\n",
              "<style scoped>\n",
              "    .dataframe tbody tr th:only-of-type {\n",
              "        vertical-align: middle;\n",
              "    }\n",
              "\n",
              "    .dataframe tbody tr th {\n",
              "        vertical-align: top;\n",
              "    }\n",
              "\n",
              "    .dataframe thead th {\n",
              "        text-align: right;\n",
              "    }\n",
              "</style>\n",
              "<table border=\"1\" class=\"dataframe\">\n",
              "  <thead>\n",
              "    <tr style=\"text-align: right;\">\n",
              "      <th></th>\n",
              "      <th>name</th>\n",
              "      <th>brand</th>\n",
              "      <th>price</th>\n",
              "      <th>numberofsim</th>\n",
              "      <th>diagonal</th>\n",
              "      <th>width</th>\n",
              "      <th>length</th>\n",
              "      <th>screentechnology</th>\n",
              "      <th>os</th>\n",
              "      <th>numberofcore</th>\n",
              "      <th>memoryGB</th>\n",
              "      <th>sensortype</th>\n",
              "      <th>ostype</th>\n",
              "    </tr>\n",
              "  </thead>\n",
              "  <tbody>\n",
              "    <tr>\n",
              "      <th>0</th>\n",
              "      <td>Xiaomi 11T 8/128GB, Meteorite Gray</td>\n",
              "      <td>Xiaomi</td>\n",
              "      <td>259990</td>\n",
              "      <td>2</td>\n",
              "      <td>6.67</td>\n",
              "      <td>2400</td>\n",
              "      <td>1080</td>\n",
              "      <td>AMOLED</td>\n",
              "      <td>Android 11</td>\n",
              "      <td>8</td>\n",
              "      <td>128</td>\n",
              "      <td>accelerometer</td>\n",
              "      <td>Android</td>\n",
              "    </tr>\n",
              "    <tr>\n",
              "      <th>1</th>\n",
              "      <td>Vivo Y53S (128GB), Deep Sea Blue</td>\n",
              "      <td>Vivo</td>\n",
              "      <td>134990</td>\n",
              "      <td>2</td>\n",
              "      <td>6.58</td>\n",
              "      <td>2408</td>\n",
              "      <td>1080</td>\n",
              "      <td>IPS</td>\n",
              "      <td>Funtouch ОS 11.1</td>\n",
              "      <td>8</td>\n",
              "      <td>128</td>\n",
              "      <td>gps</td>\n",
              "      <td>Funtouch</td>\n",
              "    </tr>\n",
              "    <tr>\n",
              "      <th>2</th>\n",
              "      <td>Vivo Y53S (128GB), Fantastic Rainbow</td>\n",
              "      <td>Vivo</td>\n",
              "      <td>134990</td>\n",
              "      <td>2</td>\n",
              "      <td>6.58</td>\n",
              "      <td>2408</td>\n",
              "      <td>1080</td>\n",
              "      <td>IPS</td>\n",
              "      <td>Funtouch ОS 11.1</td>\n",
              "      <td>8</td>\n",
              "      <td>128</td>\n",
              "      <td>gps</td>\n",
              "      <td>Funtouch</td>\n",
              "    </tr>\n",
              "    <tr>\n",
              "      <th>3</th>\n",
              "      <td>Samsung Galaxy Z Flip 3 (new) 128GB, beige</td>\n",
              "      <td>Samsung</td>\n",
              "      <td>549890</td>\n",
              "      <td>2</td>\n",
              "      <td>6.70</td>\n",
              "      <td>2640</td>\n",
              "      <td>1080</td>\n",
              "      <td>Dynamic AMOLED 2X</td>\n",
              "      <td>Android 11</td>\n",
              "      <td>8</td>\n",
              "      <td>128</td>\n",
              "      <td>gps</td>\n",
              "      <td>Android</td>\n",
              "    </tr>\n",
              "    <tr>\n",
              "      <th>4</th>\n",
              "      <td>Samsung Galaxy Z Flip 3 (new)128GB, green</td>\n",
              "      <td>Samsung</td>\n",
              "      <td>549890</td>\n",
              "      <td>2</td>\n",
              "      <td>6.70</td>\n",
              "      <td>2640</td>\n",
              "      <td>1080</td>\n",
              "      <td>Dynamic AMOLED 2X</td>\n",
              "      <td>Android 11</td>\n",
              "      <td>8</td>\n",
              "      <td>128</td>\n",
              "      <td>gps</td>\n",
              "      <td>Android</td>\n",
              "    </tr>\n",
              "  </tbody>\n",
              "</table>\n",
              "</div>"
            ],
            "text/plain": [
              "                                         name    brand  ...     sensortype    ostype\n",
              "0          Xiaomi 11T 8/128GB, Meteorite Gray   Xiaomi  ...  accelerometer   Android\n",
              "1            Vivo Y53S (128GB), Deep Sea Blue     Vivo  ...            gps  Funtouch\n",
              "2        Vivo Y53S (128GB), Fantastic Rainbow     Vivo  ...            gps  Funtouch\n",
              "3  Samsung Galaxy Z Flip 3 (new) 128GB, beige  Samsung  ...            gps   Android\n",
              "4   Samsung Galaxy Z Flip 3 (new)128GB, green  Samsung  ...            gps   Android\n",
              "\n",
              "[5 rows x 13 columns]"
            ]
          },
          "metadata": {},
          "execution_count": 104
        }
      ]
    },
    {
      "cell_type": "code",
      "metadata": {
        "id": "ZRaG88d8-ttJ"
      },
      "source": [
        ""
      ],
      "execution_count": 104,
      "outputs": []
    },
    {
      "cell_type": "markdown",
      "metadata": {
        "id": "Udcogez9Llk_"
      },
      "source": [
        "##Visualization"
      ]
    },
    {
      "cell_type": "code",
      "metadata": {
        "colab": {
          "base_uri": "https://localhost:8080/"
        },
        "id": "lra4B1oDLp7f",
        "outputId": "2b8a51a7-533b-40ec-c731-c983adc85302"
      },
      "source": [
        "data.isnull().sum()"
      ],
      "execution_count": 105,
      "outputs": [
        {
          "output_type": "execute_result",
          "data": {
            "text/plain": [
              "name                0\n",
              "brand               0\n",
              "price               0\n",
              "numberofsim         0\n",
              "diagonal            0\n",
              "width               0\n",
              "length              0\n",
              "screentechnology    0\n",
              "os                  0\n",
              "numberofcore        0\n",
              "memoryGB            0\n",
              "sensortype          0\n",
              "ostype              0\n",
              "dtype: int64"
            ]
          },
          "metadata": {},
          "execution_count": 105
        }
      ]
    },
    {
      "cell_type": "code",
      "metadata": {
        "colab": {
          "base_uri": "https://localhost:8080/",
          "height": 0
        },
        "id": "C34g6TqHL1Ug",
        "outputId": "38b32be0-f3e1-4c61-e239-004173fb1179"
      },
      "source": [
        "fig = plt.figure(constrained_layout=True, figsize=(16,6))\n",
        "grid = gridspec.GridSpec(ncols=3, nrows=1, figure=fig)\n",
        "ax1 = fig.add_subplot(grid[0, :2])\n",
        "ax1.set_title('Histogram')\n",
        "\n",
        "sns.histplot(x = data.loc[:,'memoryGB'], ax = ax1, color=\"red\", label=\"100% Equities\", kde=True, stat=\"density\", linewidth=0)\n",
        "ax3 = fig.add_subplot(grid[:, 2])\n",
        "ax3.set_title('Box Plot')\n",
        "\n",
        "sns.boxplot(x = data.loc[:,'price'],  orient='v', ax = ax3)\n",
        "plt.show()"
      ],
      "execution_count": 106,
      "outputs": [
        {
          "output_type": "stream",
          "name": "stderr",
          "text": [
            "/usr/local/lib/python3.7/dist-packages/seaborn/_core.py:1326: UserWarning:\n",
            "\n",
            "Vertical orientation ignored with only `x` specified.\n",
            "\n"
          ]
        },
        {
          "output_type": "display_data",
          "data": {
            "image/png": "[encoded data removed]",
            "text/plain": [
              "<Figure size 1152x432 with 2 Axes>"
            ]
          },
          "metadata": {
            "needs_background": "light"
          }
        }
      ]
    },
    {
      "cell_type": "code",
      "metadata": {
        "colab": {
          "base_uri": "https://localhost:8080/",
          "height": 0
        },
        "id": "09pD3YNgQGkQ",
        "outputId": "5887c34d-49c2-4d0a-8f71-d28a93a8fc1a"
      },
      "source": [
        "\n",
        "fig, ax = plt.subplots(figsize=(8,8)) \n",
        "sns.heatmap(data.corr(), annot=True, ax=ax).set(\n",
        "    title = 'Feature Correlation', xlabel = 'Columns', ylabel = 'Columns')\n",
        "plt.show()"
      ],
      "execution_count": 107,
      "outputs": [
        {
          "output_type": "display_data",
          "data": {
            "image/png": "[encoded data removed]",
            "text/plain": [
              "<Figure size 576x576 with 2 Axes>"
            ]
          },
          "metadata": {
            "needs_background": "light"
          }
        }
      ]
    },
    {
      "cell_type": "code",
      "metadata": {
        "id": "eohA-8VoRyeK",
        "colab": {
          "base_uri": "https://localhost:8080/",
          "height": 0
        },
        "outputId": "c694d074-127b-411c-96ee-7f7807ecc32c"
      },
      "source": [
        "categorical_variables = data.select_dtypes(include=['object'])\n",
        "plt.figure(figsize=(5,5))\n",
        "sns.countplot(data = categorical_variables, x='ostype', order=categorical_variables.ostype.value_counts().index)"
      ],
      "execution_count": 108,
      "outputs": [
        {
          "output_type": "execute_result",
          "data": {
            "text/plain": [
              "<matplotlib.axes._subplots.AxesSubplot at 0x7f9758db1ed0>"
            ]
          },
          "metadata": {},
          "execution_count": 108
        },
        {
          "output_type": "display_data",
          "data": {
            "image/png": "[encoded data removed]",
            "text/plain": [
              "<Figure size 360x360 with 1 Axes>"
            ]
          },
          "metadata": {
            "needs_background": "light"
          }
        }
      ]
    },
    {
      "cell_type": "code",
      "metadata": {
        "colab": {
          "base_uri": "https://localhost:8080/",
          "height": 0
        },
        "id": "9RiQYFrEbpT7",
        "outputId": "663a2ea4-3c75-411b-ba14-347e0c92ea74"
      },
      "source": [
        "plt.figure(figsize=(14,5))\n",
        "ax2 = sns.countplot(data = categorical_variables, x='brand', order=categorical_variables.brand.value_counts().index)\n",
        "\n",
        "for p in ax2.patches:\n",
        "        ax2.annotate('{:.0f}'.format(p.get_height()), (p.get_x()+0.3, p.get_height()+1))\n",
        "\n",
        "plt.xticks(\n",
        "    rotation=45, \n",
        "    horizontalalignment='right',\n",
        "    fontweight='light',\n",
        "    fontsize='large'  \n",
        ")"
      ],
      "execution_count": 109,
      "outputs": [
        {
          "output_type": "execute_result",
          "data": {
            "text/plain": [
              "(array([0, 1, 2, 3, 4, 5, 6, 7, 8, 9]),\n",
              " <a list of 10 Text major ticklabel objects>)"
            ]
          },
          "metadata": {},
          "execution_count": 109
        },
        {
          "output_type": "display_data",
          "data": {
            "image/png": "[encoded data removed]",
            "text/plain": [
              "<Figure size 1008x360 with 1 Axes>"
            ]
          },
          "metadata": {
            "needs_background": "light"
          }
        }
      ]
    },
    {
      "cell_type": "code",
      "metadata": {
        "colab": {
          "base_uri": "https://localhost:8080/",
          "height": 0
        },
        "id": "mDRxdCS1dxkA",
        "outputId": "4045c815-4f8b-45a6-f478-d9abd7ede330"
      },
      "source": [
        "fig, ax = plt.subplots(figsize = (14,7))  \n",
        "\n",
        "sns.scatterplot(data=data, x=\"diagonal\", y=\"price\", hue=\"ostype\", size='numberofcore')"
      ],
      "execution_count": 110,
      "outputs": [
        {
          "output_type": "execute_result",
          "data": {
            "text/plain": [
              "<matplotlib.axes._subplots.AxesSubplot at 0x7f97586058d0>"
            ]
          },
          "metadata": {},
          "execution_count": 110
        },
        {
          "output_type": "display_data",
          "data": {
            "image/png": "[encoded data removed]",
            "text/plain": [
              "<Figure size 1008x504 with 1 Axes>"
            ]
          },
          "metadata": {
            "needs_background": "light"
          }
        }
      ]
    },
    {
      "cell_type": "code",
      "metadata": {
        "colab": {
          "base_uri": "https://localhost:8080/",
          "height": 0
        },
        "id": "xIRZj00ZgtKP",
        "outputId": "805b3205-4c65-4c35-cbd0-9376fb52af81"
      },
      "source": [
        "numeric_variables = data.select_dtypes(exclude=['object'])\n",
        "numeric_variables.hist(figsize=(12,8), bins=10)"
      ],
      "execution_count": 111,
      "outputs": [
        {
          "output_type": "execute_result",
          "data": {
            "text/plain": [
              "array([[<matplotlib.axes._subplots.AxesSubplot object at 0x7f97584d2c10>,\n",
              "        <matplotlib.axes._subplots.AxesSubplot object at 0x7f97584eca90>,\n",
              "        <matplotlib.axes._subplots.AxesSubplot object at 0x7f97584a0ed0>],\n",
              "       [<matplotlib.axes._subplots.AxesSubplot object at 0x7f9758464410>,\n",
              "        <matplotlib.axes._subplots.AxesSubplot object at 0x7f9758419910>,\n",
              "        <matplotlib.axes._subplots.AxesSubplot object at 0x7f97583cfe10>],\n",
              "       [<matplotlib.axes._subplots.AxesSubplot object at 0x7f97583923d0>,\n",
              "        <matplotlib.axes._subplots.AxesSubplot object at 0x7f97583c7810>,\n",
              "        <matplotlib.axes._subplots.AxesSubplot object at 0x7f97583c7850>]],\n",
              "      dtype=object)"
            ]
          },
          "metadata": {},
          "execution_count": 111
        },
        {
          "output_type": "display_data",
          "data": {
            "image/png": "[encoded data removed]",
            "text/plain": [
              "<Figure size 864x576 with 9 Axes>"
            ]
          },
          "metadata": {
            "needs_background": "light"
          }
        }
      ]
    },
    {
      "cell_type": "code",
      "metadata": {
        "colab": {
          "base_uri": "https://localhost:8080/",
          "height": 0
        },
        "id": "YQ4FRRAkrwns",
        "outputId": "e121b8da-78a1-404e-9542-de25fbf93f52"
      },
      "source": [
        "fig = plt.figure(figsize=(12, 6))\n",
        "plt.title('OS Analysis')\n",
        "plt.yticks([],[])\n",
        "plt.xticks([],[])\n",
        "ax1 = fig.add_subplot(2, 1, 1)\n",
        "ax2 = fig.add_subplot(2, 1, 2)\n",
        "\n",
        "\n",
        "sns.countplot(data= data, y= 'ostype', ax= ax1)\n",
        "sns.barplot(data= data, y= 'ostype', x= 'price', ax= ax2, ci= None)\n",
        "\n",
        "plt.show()"
      ],
      "execution_count": 112,
      "outputs": [
        {
          "output_type": "display_data",
          "data": {
            "image/png": "[encoded data removed]",
            "text/plain": [
              "<Figure size 864x432 with 3 Axes>"
            ]
          },
          "metadata": {
            "needs_background": "light"
          }
        }
      ]
    },
    {
      "cell_type": "code",
      "metadata": {
        "id": "Vd17ulJClP8r"
      },
      "source": [
        ""
      ],
      "execution_count": 112,
      "outputs": []
    },
    {
      "cell_type": "markdown",
      "metadata": {
        "id": "fSMU1U26xwtb"
      },
      "source": [
        "##Predict"
      ]
    },
    {
      "cell_type": "code",
      "metadata": {
        "colab": {
          "base_uri": "https://localhost:8080/"
        },
        "id": "SsW34wsPx1tr",
        "outputId": "75d9397e-066d-435b-ff34-cda3a3616381"
      },
      "source": [
        "data_final = pd.concat([data,pd.get_dummies(data['ostype'], prefix='ostype')], axis=1)\n",
        "#dropping the redundant region column\n",
        "data_final.drop(['ostype'],axis=1,inplace=True)\n",
        "data_final.drop(['os'],axis=1,inplace=True)\n",
        "data_final.info()"
      ],
      "execution_count": 113,
      "outputs": [
        {
          "output_type": "stream",
          "name": "stdout",
          "text": [
            "<class 'pandas.core.frame.DataFrame'>\n",
            "RangeIndex: 247 entries, 0 to 246\n",
            "Data columns (total 15 columns):\n",
            " #   Column            Non-Null Count  Dtype  \n",
            "---  ------            --------------  -----  \n",
            " 0   name              247 non-null    object \n",
            " 1   brand             247 non-null    object \n",
            " 2   price             247 non-null    int64  \n",
            " 3   numberofsim       247 non-null    int64  \n",
            " 4   diagonal          247 non-null    float64\n",
            " 5   width             247 non-null    int64  \n",
            " 6   length            247 non-null    int64  \n",
            " 7   screentechnology  247 non-null    object \n",
            " 8   numberofcore      247 non-null    int64  \n",
            " 9   memoryGB          247 non-null    int64  \n",
            " 10  sensortype        247 non-null    object \n",
            " 11  ostype_Android    247 non-null    uint8  \n",
            " 12  ostype_Funtouch   247 non-null    uint8  \n",
            " 13  ostype_Own        247 non-null    uint8  \n",
            " 14  ostype_iOS        247 non-null    uint8  \n",
            "dtypes: float64(1), int64(6), object(4), uint8(4)\n",
            "memory usage: 22.3+ KB\n"
          ]
        }
      ]
    },
    {
      "cell_type": "code",
      "metadata": {
        "colab": {
          "base_uri": "https://localhost:8080/"
        },
        "id": "bU1xknHN08Os",
        "outputId": "4d7309e9-b7a6-45d9-ba13-c7da5a4bdfcd"
      },
      "source": [
        "data_final.drop(['sensortype'],axis=1,inplace=True)\n",
        "data_final.drop(['screentechnology'],axis=1,inplace=True)\n",
        "data_final = pd.concat([data_final,pd.get_dummies(data_final['brand'], prefix='brand')], axis=1)\n",
        "#dropping the redundant region column\n",
        "data_final.drop(['brand'],axis=1,inplace=True)\n",
        "data_final.drop(['name'],axis=1,inplace=True)\n",
        "data_final.info()"
      ],
      "execution_count": 114,
      "outputs": [
        {
          "output_type": "stream",
          "name": "stdout",
          "text": [
            "<class 'pandas.core.frame.DataFrame'>\n",
            "RangeIndex: 247 entries, 0 to 246\n",
            "Data columns (total 21 columns):\n",
            " #   Column           Non-Null Count  Dtype  \n",
            "---  ------           --------------  -----  \n",
            " 0   price            247 non-null    int64  \n",
            " 1   numberofsim      247 non-null    int64  \n",
            " 2   diagonal         247 non-null    float64\n",
            " 3   width            247 non-null    int64  \n",
            " 4   length           247 non-null    int64  \n",
            " 5   numberofcore     247 non-null    int64  \n",
            " 6   memoryGB         247 non-null    int64  \n",
            " 7   ostype_Android   247 non-null    uint8  \n",
            " 8   ostype_Funtouch  247 non-null    uint8  \n",
            " 9   ostype_Own       247 non-null    uint8  \n",
            " 10  ostype_iOS       247 non-null    uint8  \n",
            " 11  brand_Apple      247 non-null    uint8  \n",
            " 12  brand_BQ         247 non-null    uint8  \n",
            " 13  brand_Nokia      247 non-null    uint8  \n",
            " 14  brand_OPPO       247 non-null    uint8  \n",
            " 15  brand_Oppo       247 non-null    uint8  \n",
            " 16  brand_Realme     247 non-null    uint8  \n",
            " 17  brand_Samsung    247 non-null    uint8  \n",
            " 18  brand_Vivo       247 non-null    uint8  \n",
            " 19  brand_X-AGE      247 non-null    uint8  \n",
            " 20  brand_Xiaomi     247 non-null    uint8  \n",
            "dtypes: float64(1), int64(6), uint8(14)\n",
            "memory usage: 17.0 KB\n"
          ]
        }
      ]
    },
    {
      "cell_type": "code",
      "metadata": {
        "id": "9Cy4c8og3VI8"
      },
      "source": [
        "y = data_final['price']\n",
        "X = data_final.drop(['price'], axis=1)\n",
        "\n",
        "X_train, X_test, y_train, y_test = train_test_split(X, y, test_size=0.2, random_state=101)"
      ],
      "execution_count": 115,
      "outputs": []
    },
    {
      "cell_type": "code",
      "metadata": {
        "colab": {
          "base_uri": "https://localhost:8080/"
        },
        "id": "T45ZhNA53l-S",
        "outputId": "ff78d07f-2be6-4b57-be34-638be56d06fd"
      },
      "source": [
        "from sklearn.linear_model import LinearRegression\n",
        "from sklearn.ensemble import RandomForestRegressor\n",
        "from sklearn.metrics import mean_squared_error\n",
        "from sklearn.metrics import r2_score\n",
        "from sklearn.metrics import mean_absolute_error\n",
        "lm = LinearRegression()\n",
        "lm.fit(X_train,y_train)\n",
        "lm_pred = lm.predict(X_test)\n",
        "print('MAE:', mean_absolute_error(y_test, lm_pred))\n",
        "print('RMSE:', np.sqrt(mean_squared_error(y_test, lm_pred)))\n",
        "print('R2_Score: ', r2_score(y_test, lm_pred))"
      ],
      "execution_count": 116,
      "outputs": [
        {
          "output_type": "stream",
          "name": "stdout",
          "text": [
            "MAE: 82875.82581025835\n",
            "RMSE: 111853.22747545254\n",
            "R2_Score:  0.4416612692533469\n"
          ]
        }
      ]
    },
    {
      "cell_type": "code",
      "metadata": {
        "colab": {
          "base_uri": "https://localhost:8080/"
        },
        "id": "f6sZydPI4Gb5",
        "outputId": "7e2a191d-2a2e-4a5d-c8c1-7bad6b10a10e"
      },
      "source": [
        "rf = RandomForestRegressor(random_state=101, n_estimators=200)\n",
        "rf.fit(X_train, y_train)\n",
        "rf_pred = rf.predict(X_test)\n",
        "print('MAE:', mean_absolute_error(y_test, rf_pred))\n",
        "print('RMSE:', np.sqrt(mean_squared_error(y_test, rf_pred)))\n",
        "print('R2_Score: ', r2_score(y_test, rf_pred))"
      ],
      "execution_count": 117,
      "outputs": [
        {
          "output_type": "stream",
          "name": "stdout",
          "text": [
            "MAE: 19638.37807023045\n",
            "RMSE: 32209.164984317555\n",
            "R2_Score:  0.9537022754303711\n"
          ]
        }
      ]
    },
    {
      "cell_type": "code",
      "metadata": {
        "colab": {
          "base_uri": "https://localhost:8080/",
          "height": 0
        },
        "id": "XVwNGazl4qqc",
        "outputId": "16d30c1f-73e0-4993-c76b-7f01cf29f736"
      },
      "source": [
        "X_Iphone12_64 = X.iloc[192:193]\n",
        "X_Iphone12_64.head()\n"
      ],
      "execution_count": 118,
      "outputs": [
        {
          "output_type": "execute_result",
          "data": {
            "text/html": [
              "<div>\n",
              "<style scoped>\n",
              "    .dataframe tbody tr th:only-of-type {\n",
              "        vertical-align: middle;\n",
              "    }\n",
              "\n",
              "    .dataframe tbody tr th {\n",
              "        vertical-align: top;\n",
              "    }\n",
              "\n",
              "    .dataframe thead th {\n",
              "        text-align: right;\n",
              "    }\n",
              "</style>\n",
              "<table border=\"1\" class=\"dataframe\">\n",
              "  <thead>\n",
              "    <tr style=\"text-align: right;\">\n",
              "      <th></th>\n",
              "      <th>numberofsim</th>\n",
              "      <th>diagonal</th>\n",
              "      <th>width</th>\n",
              "      <th>length</th>\n",
              "      <th>numberofcore</th>\n",
              "      <th>memoryGB</th>\n",
              "      <th>ostype_Android</th>\n",
              "      <th>ostype_Funtouch</th>\n",
              "      <th>ostype_Own</th>\n",
              "      <th>ostype_iOS</th>\n",
              "      <th>brand_Apple</th>\n",
              "      <th>brand_BQ</th>\n",
              "      <th>brand_Nokia</th>\n",
              "      <th>brand_OPPO</th>\n",
              "      <th>brand_Oppo</th>\n",
              "      <th>brand_Realme</th>\n",
              "      <th>brand_Samsung</th>\n",
              "      <th>brand_Vivo</th>\n",
              "      <th>brand_X-AGE</th>\n",
              "      <th>brand_Xiaomi</th>\n",
              "    </tr>\n",
              "  </thead>\n",
              "  <tbody>\n",
              "    <tr>\n",
              "      <th>192</th>\n",
              "      <td>1</td>\n",
              "      <td>6.1</td>\n",
              "      <td>2532</td>\n",
              "      <td>1170</td>\n",
              "      <td>6</td>\n",
              "      <td>64</td>\n",
              "      <td>0</td>\n",
              "      <td>0</td>\n",
              "      <td>0</td>\n",
              "      <td>1</td>\n",
              "      <td>1</td>\n",
              "      <td>0</td>\n",
              "      <td>0</td>\n",
              "      <td>0</td>\n",
              "      <td>0</td>\n",
              "      <td>0</td>\n",
              "      <td>0</td>\n",
              "      <td>0</td>\n",
              "      <td>0</td>\n",
              "      <td>0</td>\n",
              "    </tr>\n",
              "  </tbody>\n",
              "</table>\n",
              "</div>"
            ],
            "text/plain": [
              "     numberofsim  diagonal  width  ...  brand_Vivo  brand_X-AGE  brand_Xiaomi\n",
              "192            1       6.1   2532  ...           0            0             0\n",
              "\n",
              "[1 rows x 20 columns]"
            ]
          },
          "metadata": {},
          "execution_count": 118
        }
      ]
    },
    {
      "cell_type": "code",
      "metadata": {
        "colab": {
          "base_uri": "https://localhost:8080/"
        },
        "id": "NIGKdvUZ5pY6",
        "outputId": "af424f11-10d5-4a06-8798-2d5052ea8e99"
      },
      "source": [
        "lm_pred = lm.predict(X_Iphone12_64)\n",
        "rf_pred = rf.predict(X_Iphone12_64)\n",
        "\n",
        "print('Linear Regression: ', lm_pred)\n",
        "print('Random Forest: ', rf_pred)\n",
        "print('Real price is 424 000 Tenge')\n"
      ],
      "execution_count": 119,
      "outputs": [
        {
          "output_type": "stream",
          "name": "stdout",
          "text": [
            "Linear Regression:  [446035.44525512]\n",
            "Random Forest:  [430806.46666667]\n",
            "Real price is 424 000 Tenge\n"
          ]
        }
      ]
    }
  ]
}